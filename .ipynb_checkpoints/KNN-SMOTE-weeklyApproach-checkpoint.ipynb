{
 "cells": [
  {
   "cell_type": "markdown",
   "id": "6dfbc098",
   "metadata": {},
   "source": [
    "# Importing the necessary packages"
   ]
  },
  {
   "cell_type": "code",
   "execution_count": 1,
   "id": "1fd236b2",
   "metadata": {},
   "outputs": [],
   "source": [
    "import tensorflow as tf\n",
    "from tensorflow import keras\n",
    "import os\n",
    "import tempfile\n",
    "import matplotlib as mpl\n",
    "import matplotlib.pyplot as plt\n",
    "import numpy as np\n",
    "import pandas as pd\n",
    "import seaborn as sns\n",
    "import sklearn\n",
    "from sklearn.neighbors import KNeighborsClassifier\n",
    "from sklearn.metrics import confusion_matrix\n",
    "from sklearn.model_selection import train_test_split\n",
    "from sklearn.preprocessing import StandardScaler\n",
    "from sklearn.metrics import confusion_matrix , classification_report\n",
    "from imblearn.over_sampling import SMOTE\n",
    "import logging\n",
    "logging.getLogger(\"tensorflow\").setLevel(logging.ERROR)"
   ]
  },
  {
   "cell_type": "code",
   "execution_count": 2,
   "id": "22ea679b",
   "metadata": {},
   "outputs": [],
   "source": [
    "mpl.rcParams['figure.figsize'] = (15, 18)\n",
    "colors = plt.rcParams['axes.prop_cycle'].by_key()['color']"
   ]
  },
  {
   "cell_type": "markdown",
   "id": "c3592ec4",
   "metadata": {},
   "source": [
    "# Read the data"
   ]
  },
  {
   "cell_type": "code",
   "execution_count": 3,
   "id": "cefaf45a",
   "metadata": {},
   "outputs": [
    {
     "data": {
      "text/html": [
       "<div>\n",
       "<style scoped>\n",
       "    .dataframe tbody tr th:only-of-type {\n",
       "        vertical-align: middle;\n",
       "    }\n",
       "\n",
       "    .dataframe tbody tr th {\n",
       "        vertical-align: top;\n",
       "    }\n",
       "\n",
       "    .dataframe thead th {\n",
       "        text-align: right;\n",
       "    }\n",
       "</style>\n",
       "<table border=\"1\" class=\"dataframe\">\n",
       "  <thead>\n",
       "    <tr style=\"text-align: right;\">\n",
       "      <th></th>\n",
       "      <th>nr. sessions</th>\n",
       "      <th>nr. rest days</th>\n",
       "      <th>total kms</th>\n",
       "      <th>max km one day</th>\n",
       "      <th>total km Z3-Z4-Z5-T1-T2</th>\n",
       "      <th>nr. tough sessions (effort in Z5, T1 or T2)</th>\n",
       "      <th>nr. days with interval session</th>\n",
       "      <th>total km Z3-4</th>\n",
       "      <th>max km Z3-4 one day</th>\n",
       "      <th>total km Z5-T1-T2</th>\n",
       "      <th>...</th>\n",
       "      <th>max training success.2</th>\n",
       "      <th>avg recovery.2</th>\n",
       "      <th>min recovery.2</th>\n",
       "      <th>max recovery.2</th>\n",
       "      <th>Athlete ID</th>\n",
       "      <th>injury</th>\n",
       "      <th>rel total kms week 0_1</th>\n",
       "      <th>rel total kms week 0_2</th>\n",
       "      <th>rel total kms week 1_2</th>\n",
       "      <th>Date</th>\n",
       "    </tr>\n",
       "  </thead>\n",
       "  <tbody>\n",
       "    <tr>\n",
       "      <th>0</th>\n",
       "      <td>5</td>\n",
       "      <td>2.0</td>\n",
       "      <td>22.2</td>\n",
       "      <td>16.4</td>\n",
       "      <td>11.8</td>\n",
       "      <td>1.0</td>\n",
       "      <td>2.0</td>\n",
       "      <td>10.0</td>\n",
       "      <td>10.0</td>\n",
       "      <td>0.6</td>\n",
       "      <td>...</td>\n",
       "      <td>0.0</td>\n",
       "      <td>0.18</td>\n",
       "      <td>0.16</td>\n",
       "      <td>0.20</td>\n",
       "      <td>0</td>\n",
       "      <td>0</td>\n",
       "      <td>0.718447</td>\n",
       "      <td>1.378882</td>\n",
       "      <td>1.919255</td>\n",
       "      <td>0</td>\n",
       "    </tr>\n",
       "    <tr>\n",
       "      <th>1</th>\n",
       "      <td>5</td>\n",
       "      <td>2.0</td>\n",
       "      <td>21.6</td>\n",
       "      <td>16.4</td>\n",
       "      <td>11.7</td>\n",
       "      <td>1.0</td>\n",
       "      <td>2.0</td>\n",
       "      <td>10.0</td>\n",
       "      <td>10.0</td>\n",
       "      <td>0.5</td>\n",
       "      <td>...</td>\n",
       "      <td>0.0</td>\n",
       "      <td>0.18</td>\n",
       "      <td>0.16</td>\n",
       "      <td>0.20</td>\n",
       "      <td>0</td>\n",
       "      <td>0</td>\n",
       "      <td>0.683544</td>\n",
       "      <td>1.018868</td>\n",
       "      <td>1.490566</td>\n",
       "      <td>1</td>\n",
       "    </tr>\n",
       "    <tr>\n",
       "      <th>2</th>\n",
       "      <td>5</td>\n",
       "      <td>2.0</td>\n",
       "      <td>21.6</td>\n",
       "      <td>16.4</td>\n",
       "      <td>11.7</td>\n",
       "      <td>1.0</td>\n",
       "      <td>2.0</td>\n",
       "      <td>10.0</td>\n",
       "      <td>10.0</td>\n",
       "      <td>0.5</td>\n",
       "      <td>...</td>\n",
       "      <td>0.0</td>\n",
       "      <td>0.17</td>\n",
       "      <td>0.16</td>\n",
       "      <td>0.18</td>\n",
       "      <td>0</td>\n",
       "      <td>0</td>\n",
       "      <td>0.683544</td>\n",
       "      <td>1.018868</td>\n",
       "      <td>1.490566</td>\n",
       "      <td>2</td>\n",
       "    </tr>\n",
       "    <tr>\n",
       "      <th>3</th>\n",
       "      <td>5</td>\n",
       "      <td>2.0</td>\n",
       "      <td>21.6</td>\n",
       "      <td>16.4</td>\n",
       "      <td>11.7</td>\n",
       "      <td>1.0</td>\n",
       "      <td>2.0</td>\n",
       "      <td>10.0</td>\n",
       "      <td>10.0</td>\n",
       "      <td>0.5</td>\n",
       "      <td>...</td>\n",
       "      <td>0.0</td>\n",
       "      <td>0.18</td>\n",
       "      <td>0.16</td>\n",
       "      <td>0.18</td>\n",
       "      <td>0</td>\n",
       "      <td>0</td>\n",
       "      <td>0.683544</td>\n",
       "      <td>1.018868</td>\n",
       "      <td>1.490566</td>\n",
       "      <td>3</td>\n",
       "    </tr>\n",
       "    <tr>\n",
       "      <th>4</th>\n",
       "      <td>6</td>\n",
       "      <td>1.0</td>\n",
       "      <td>39.2</td>\n",
       "      <td>17.6</td>\n",
       "      <td>18.9</td>\n",
       "      <td>1.0</td>\n",
       "      <td>3.0</td>\n",
       "      <td>17.2</td>\n",
       "      <td>10.0</td>\n",
       "      <td>0.5</td>\n",
       "      <td>...</td>\n",
       "      <td>0.0</td>\n",
       "      <td>0.17</td>\n",
       "      <td>0.16</td>\n",
       "      <td>0.18</td>\n",
       "      <td>0</td>\n",
       "      <td>0</td>\n",
       "      <td>2.202247</td>\n",
       "      <td>1.361111</td>\n",
       "      <td>0.618056</td>\n",
       "      <td>4</td>\n",
       "    </tr>\n",
       "  </tbody>\n",
       "</table>\n",
       "<p>5 rows × 72 columns</p>\n",
       "</div>"
      ],
      "text/plain": [
       "   nr. sessions  nr. rest days  total kms  max km one day  \\\n",
       "0             5            2.0       22.2            16.4   \n",
       "1             5            2.0       21.6            16.4   \n",
       "2             5            2.0       21.6            16.4   \n",
       "3             5            2.0       21.6            16.4   \n",
       "4             6            1.0       39.2            17.6   \n",
       "\n",
       "   total km Z3-Z4-Z5-T1-T2  nr. tough sessions (effort in Z5, T1 or T2)  \\\n",
       "0                     11.8                                          1.0   \n",
       "1                     11.7                                          1.0   \n",
       "2                     11.7                                          1.0   \n",
       "3                     11.7                                          1.0   \n",
       "4                     18.9                                          1.0   \n",
       "\n",
       "   nr. days with interval session  total km Z3-4  max km Z3-4 one day  \\\n",
       "0                             2.0           10.0                 10.0   \n",
       "1                             2.0           10.0                 10.0   \n",
       "2                             2.0           10.0                 10.0   \n",
       "3                             2.0           10.0                 10.0   \n",
       "4                             3.0           17.2                 10.0   \n",
       "\n",
       "   total km Z5-T1-T2  ...  max training success.2  avg recovery.2  \\\n",
       "0                0.6  ...                     0.0            0.18   \n",
       "1                0.5  ...                     0.0            0.18   \n",
       "2                0.5  ...                     0.0            0.17   \n",
       "3                0.5  ...                     0.0            0.18   \n",
       "4                0.5  ...                     0.0            0.17   \n",
       "\n",
       "   min recovery.2  max recovery.2  Athlete ID  injury  rel total kms week 0_1  \\\n",
       "0            0.16            0.20           0       0                0.718447   \n",
       "1            0.16            0.20           0       0                0.683544   \n",
       "2            0.16            0.18           0       0                0.683544   \n",
       "3            0.16            0.18           0       0                0.683544   \n",
       "4            0.16            0.18           0       0                2.202247   \n",
       "\n",
       "   rel total kms week 0_2  rel total kms week 1_2  Date  \n",
       "0                1.378882                1.919255     0  \n",
       "1                1.018868                1.490566     1  \n",
       "2                1.018868                1.490566     2  \n",
       "3                1.018868                1.490566     3  \n",
       "4                1.361111                0.618056     4  \n",
       "\n",
       "[5 rows x 72 columns]"
      ]
     },
     "execution_count": 3,
     "metadata": {},
     "output_type": "execute_result"
    }
   ],
   "source": [
    "file = tf.keras.utils\n",
    "raw_df = pd.read_csv('injury-prediction/week_approach_maskedID_timeseries.csv')\n",
    "convert_dict = {'nr. sessions': int } #convert nr.sessions to int \n",
    "raw_df = raw_df.astype(convert_dict)\n",
    "raw_df.head()"
   ]
  },
  {
   "cell_type": "code",
   "execution_count": 4,
   "id": "3ff9ceb1",
   "metadata": {},
   "outputs": [
    {
     "name": "stdout",
     "output_type": "stream",
     "text": [
      "Examples:\n",
      "    Total: 42798\n",
      "    Positive: 575 (1.34% of total)\n",
      "\n"
     ]
    }
   ],
   "source": [
    "# This section displays the percentage of the majority class\n",
    "neg, pos = np.bincount(raw_df['injury'])\n",
    "total = neg + pos\n",
    "print('Examples:\\n    Total: {}\\n    Positive: {} ({:.2f}% of total)\\n'.format(total, pos, 100 * pos / total))"
   ]
  },
  {
   "cell_type": "code",
   "execution_count": 5,
   "id": "da3bf02e",
   "metadata": {},
   "outputs": [
    {
     "data": {
      "text/plain": [
       "0         0\n",
       "1         0\n",
       "2         0\n",
       "3         0\n",
       "4         0\n",
       "         ..\n",
       "42793    71\n",
       "42794    71\n",
       "42795    71\n",
       "42796    71\n",
       "42797    71\n",
       "Name: Athlete ID, Length: 42798, dtype: int64"
      ]
     },
     "execution_count": 5,
     "metadata": {},
     "output_type": "execute_result"
    }
   ],
   "source": [
    "#Dropping the unnecessary columns/features\n",
    "cleaned_df = raw_df.copy()\n",
    "cleaned_df.pop('Date')\n",
    "cleaned_df.pop('Athlete ID')"
   ]
  },
  {
   "cell_type": "code",
   "execution_count": 6,
   "id": "6d0dfc27-27a1-4a80-ada1-4f80b4676a63",
   "metadata": {},
   "outputs": [
    {
     "data": {
      "text/plain": [
       "['nr. sessions',\n",
       " 'nr. rest days',\n",
       " 'total kms',\n",
       " 'max km one day',\n",
       " 'total km Z3-Z4-Z5-T1-T2',\n",
       " 'nr. tough sessions (effort in Z5, T1 or T2)',\n",
       " 'nr. days with interval session',\n",
       " 'total km Z3-4',\n",
       " 'max km Z3-4 one day',\n",
       " 'total km Z5-T1-T2',\n",
       " 'max km Z5-T1-T2 one day',\n",
       " 'total hours alternative training',\n",
       " 'nr. strength trainings',\n",
       " 'avg exertion',\n",
       " 'min exertion',\n",
       " 'max exertion',\n",
       " 'avg training success',\n",
       " 'min training success',\n",
       " 'max training success',\n",
       " 'avg recovery',\n",
       " 'min recovery',\n",
       " 'max recovery',\n",
       " 'nr. sessions.1',\n",
       " 'nr. rest days.1',\n",
       " 'total kms.1',\n",
       " 'max km one day.1',\n",
       " 'total km Z3-Z4-Z5-T1-T2.1',\n",
       " 'nr. tough sessions (effort in Z5, T1 or T2).1',\n",
       " 'nr. days with interval session.1',\n",
       " 'total km Z3-4.1',\n",
       " 'max km Z3-4 one day.1',\n",
       " 'total km Z5-T1-T2.1',\n",
       " 'max km Z5-T1-T2 one day.1',\n",
       " 'total hours alternative training.1',\n",
       " 'nr. strength trainings.1',\n",
       " 'avg exertion.1',\n",
       " 'min exertion.1',\n",
       " 'max exertion.1',\n",
       " 'avg training success.1',\n",
       " 'min training success.1',\n",
       " 'max training success.1',\n",
       " 'avg recovery.1',\n",
       " 'min recovery.1',\n",
       " 'max recovery.1',\n",
       " 'nr. sessions.2',\n",
       " 'nr. rest days.2',\n",
       " 'total kms.2',\n",
       " 'max km one day.2',\n",
       " 'total km Z3-Z4-Z5-T1-T2.2',\n",
       " 'nr. tough sessions (effort in Z5, T1 or T2).2',\n",
       " 'nr. days with interval session.2',\n",
       " 'total km Z3-4.2',\n",
       " 'max km Z3-4 one day.2',\n",
       " 'total km Z5-T1-T2.2',\n",
       " 'max km Z5-T1-T2 one day.2',\n",
       " 'total hours alternative training.2',\n",
       " 'nr. strength trainings.2',\n",
       " 'avg exertion.2',\n",
       " 'min exertion.2',\n",
       " 'max exertion.2',\n",
       " 'avg training success.2',\n",
       " 'min training success.2',\n",
       " 'max training success.2',\n",
       " 'avg recovery.2',\n",
       " 'min recovery.2',\n",
       " 'max recovery.2',\n",
       " 'injury',\n",
       " 'rel total kms week 0_1',\n",
       " 'rel total kms week 0_2',\n",
       " 'rel total kms week 1_2']"
      ]
     },
     "execution_count": 6,
     "metadata": {},
     "output_type": "execute_result"
    }
   ],
   "source": [
    "# confirm drop\n",
    "cleaned_df.columns.to_list()"
   ]
  },
  {
   "cell_type": "code",
   "execution_count": 7,
   "id": "9e71874d",
   "metadata": {},
   "outputs": [],
   "source": [
    "X = cleaned_df.drop('injury', axis = 1)\n",
    "y = cleaned_df['injury']"
   ]
  },
  {
   "cell_type": "code",
   "execution_count": 8,
   "id": "1a5a64fe",
   "metadata": {},
   "outputs": [
    {
     "data": {
      "text/plain": [
       "(42798, 69)"
      ]
     },
     "execution_count": 8,
     "metadata": {},
     "output_type": "execute_result"
    }
   ],
   "source": [
    "X.shape"
   ]
  },
  {
   "cell_type": "markdown",
   "id": "9e0fc169",
   "metadata": {},
   "source": [
    "# Applying Synthetic Minority Oversampling Technique (SMOTE)"
   ]
  },
  {
   "cell_type": "code",
   "execution_count": 9,
   "id": "33554ac1",
   "metadata": {},
   "outputs": [],
   "source": [
    "#This is because the data is so imbalanced. The minority class is oversampled with new similar data is generated to compensate its minimal numbers\n",
    "smote_technique = SMOTE(sampling_strategy='minority')\n",
    "X_smt, y_smt = smote_technique.fit_resample(X, y)"
   ]
  },
  {
   "cell_type": "code",
   "execution_count": 10,
   "id": "9945a7b8",
   "metadata": {},
   "outputs": [
    {
     "data": {
      "text/plain": [
       "0    42223\n",
       "1    42223\n",
       "Name: injury, dtype: int64"
      ]
     },
     "execution_count": 10,
     "metadata": {},
     "output_type": "execute_result"
    }
   ],
   "source": [
    "y_smt.value_counts() #class counts now match"
   ]
  },
  {
   "cell_type": "code",
   "execution_count": 11,
   "id": "01270776",
   "metadata": {},
   "outputs": [],
   "source": [
    "#Data is split to Train and test \n",
    "X_train_smt, X_test_smt, y_train_smt, y_test_smt = train_test_split(X_smt, y_smt, test_size=0.3, random_state=15, stratify=y_smt)\n"
   ]
  },
  {
   "cell_type": "code",
   "execution_count": 12,
   "id": "015f4775-d0fb-4c93-9973-cbf8fecf69b0",
   "metadata": {},
   "outputs": [
    {
     "name": "stdout",
     "output_type": "stream",
     "text": [
      "Training data size:  (59112, 69)\n",
      "Test data size:  (25334, 69)\n"
     ]
    }
   ],
   "source": [
    "# check shape of training and test data\n",
    "print(\"Training data size: \", X_train_smt.shape)\n",
    "print(\"Test data size: \", X_test_smt.shape)"
   ]
  },
  {
   "cell_type": "markdown",
   "id": "53a226a1",
   "metadata": {},
   "source": [
    "# Defining KNN Model"
   ]
  },
  {
   "cell_type": "code",
   "execution_count": 13,
   "id": "bbb0f0ba",
   "metadata": {},
   "outputs": [
    {
     "data": {
      "text/html": [
       "<style>#sk-container-id-1 {color: black;background-color: white;}#sk-container-id-1 pre{padding: 0;}#sk-container-id-1 div.sk-toggleable {background-color: white;}#sk-container-id-1 label.sk-toggleable__label {cursor: pointer;display: block;width: 100%;margin-bottom: 0;padding: 0.3em;box-sizing: border-box;text-align: center;}#sk-container-id-1 label.sk-toggleable__label-arrow:before {content: \"▸\";float: left;margin-right: 0.25em;color: #696969;}#sk-container-id-1 label.sk-toggleable__label-arrow:hover:before {color: black;}#sk-container-id-1 div.sk-estimator:hover label.sk-toggleable__label-arrow:before {color: black;}#sk-container-id-1 div.sk-toggleable__content {max-height: 0;max-width: 0;overflow: hidden;text-align: left;background-color: #f0f8ff;}#sk-container-id-1 div.sk-toggleable__content pre {margin: 0.2em;color: black;border-radius: 0.25em;background-color: #f0f8ff;}#sk-container-id-1 input.sk-toggleable__control:checked~div.sk-toggleable__content {max-height: 200px;max-width: 100%;overflow: auto;}#sk-container-id-1 input.sk-toggleable__control:checked~label.sk-toggleable__label-arrow:before {content: \"▾\";}#sk-container-id-1 div.sk-estimator input.sk-toggleable__control:checked~label.sk-toggleable__label {background-color: #d4ebff;}#sk-container-id-1 div.sk-label input.sk-toggleable__control:checked~label.sk-toggleable__label {background-color: #d4ebff;}#sk-container-id-1 input.sk-hidden--visually {border: 0;clip: rect(1px 1px 1px 1px);clip: rect(1px, 1px, 1px, 1px);height: 1px;margin: -1px;overflow: hidden;padding: 0;position: absolute;width: 1px;}#sk-container-id-1 div.sk-estimator {font-family: monospace;background-color: #f0f8ff;border: 1px dotted black;border-radius: 0.25em;box-sizing: border-box;margin-bottom: 0.5em;}#sk-container-id-1 div.sk-estimator:hover {background-color: #d4ebff;}#sk-container-id-1 div.sk-parallel-item::after {content: \"\";width: 100%;border-bottom: 1px solid gray;flex-grow: 1;}#sk-container-id-1 div.sk-label:hover label.sk-toggleable__label {background-color: #d4ebff;}#sk-container-id-1 div.sk-serial::before {content: \"\";position: absolute;border-left: 1px solid gray;box-sizing: border-box;top: 0;bottom: 0;left: 50%;z-index: 0;}#sk-container-id-1 div.sk-serial {display: flex;flex-direction: column;align-items: center;background-color: white;padding-right: 0.2em;padding-left: 0.2em;position: relative;}#sk-container-id-1 div.sk-item {position: relative;z-index: 1;}#sk-container-id-1 div.sk-parallel {display: flex;align-items: stretch;justify-content: center;background-color: white;position: relative;}#sk-container-id-1 div.sk-item::before, #sk-container-id-1 div.sk-parallel-item::before {content: \"\";position: absolute;border-left: 1px solid gray;box-sizing: border-box;top: 0;bottom: 0;left: 50%;z-index: -1;}#sk-container-id-1 div.sk-parallel-item {display: flex;flex-direction: column;z-index: 1;position: relative;background-color: white;}#sk-container-id-1 div.sk-parallel-item:first-child::after {align-self: flex-end;width: 50%;}#sk-container-id-1 div.sk-parallel-item:last-child::after {align-self: flex-start;width: 50%;}#sk-container-id-1 div.sk-parallel-item:only-child::after {width: 0;}#sk-container-id-1 div.sk-dashed-wrapped {border: 1px dashed gray;margin: 0 0.4em 0.5em 0.4em;box-sizing: border-box;padding-bottom: 0.4em;background-color: white;}#sk-container-id-1 div.sk-label label {font-family: monospace;font-weight: bold;display: inline-block;line-height: 1.2em;}#sk-container-id-1 div.sk-label-container {text-align: center;}#sk-container-id-1 div.sk-container {/* jupyter's `normalize.less` sets `[hidden] { display: none; }` but bootstrap.min.css set `[hidden] { display: none !important; }` so we also need the `!important` here to be able to override the default hidden behavior on the sphinx rendered scikit-learn.org. See: https://github.com/scikit-learn/scikit-learn/issues/21755 */display: inline-block !important;position: relative;}#sk-container-id-1 div.sk-text-repr-fallback {display: none;}</style><div id=\"sk-container-id-1\" class=\"sk-top-container\"><div class=\"sk-text-repr-fallback\"><pre>KNeighborsClassifier()</pre><b>In a Jupyter environment, please rerun this cell to show the HTML representation or trust the notebook. <br />On GitHub, the HTML representation is unable to render, please try loading this page with nbviewer.org.</b></div><div class=\"sk-container\" hidden><div class=\"sk-item\"><div class=\"sk-estimator sk-toggleable\"><input class=\"sk-toggleable__control sk-hidden--visually\" id=\"sk-estimator-id-1\" type=\"checkbox\" checked><label for=\"sk-estimator-id-1\" class=\"sk-toggleable__label sk-toggleable__label-arrow\">KNeighborsClassifier</label><div class=\"sk-toggleable__content\"><pre>KNeighborsClassifier()</pre></div></div></div></div></div>"
      ],
      "text/plain": [
       "KNeighborsClassifier()"
      ]
     },
     "execution_count": 13,
     "metadata": {},
     "output_type": "execute_result"
    }
   ],
   "source": [
    "knn_model = KNeighborsClassifier()\n",
    "knn_model.fit(X_train_smt, y_train_smt)"
   ]
  },
  {
   "cell_type": "code",
   "execution_count": 14,
   "id": "9c18b91f",
   "metadata": {},
   "outputs": [],
   "source": [
    "#Using the trained model, the prediction is done on the test set\n",
    "knn_preds_smt = knn_model.predict(X_test_smt)\n",
    "knn_preds_smt = np.round(knn_preds_smt)"
   ]
  },
  {
   "cell_type": "code",
   "execution_count": 15,
   "id": "407605b9",
   "metadata": {},
   "outputs": [
    {
     "name": "stdout",
     "output_type": "stream",
     "text": [
      "              precision    recall  f1-score   support\n",
      "\n",
      "           0       0.98      0.87      0.92     12667\n",
      "           1       0.89      0.99      0.93     12667\n",
      "\n",
      "    accuracy                           0.93     25334\n",
      "   macro avg       0.93      0.93      0.93     25334\n",
      "weighted avg       0.93      0.93      0.93     25334\n",
      "\n"
     ]
    }
   ],
   "source": [
    "#Display the classification report of the model out of prediction using the test data\n",
    "print(classification_report(y_test_smt, knn_preds_smt))"
   ]
  },
  {
   "cell_type": "code",
   "execution_count": null,
   "id": "3db5e7a7",
   "metadata": {},
   "outputs": [],
   "source": []
  },
  {
   "cell_type": "code",
   "execution_count": 16,
   "id": "815b13c5",
   "metadata": {},
   "outputs": [],
   "source": [
    "#function to display the confusion matrix\n",
    "def plot_cm(labels, predictions, p=0.5):\n",
    "    cm = confusion_matrix(labels, predictions > p)\n",
    "    plt.figure(figsize=(5,5))\n",
    "    sns.heatmap(cm, annot=True, fmt=\"d\")\n",
    "    plt.title('Confusion matrix @{:.2f}'.format(p))\n",
    "    plt.ylabel('Actual label')\n",
    "    plt.xlabel('Predicted label')\n",
    "\n",
    "    print('Correct Non-injury predictions (True Negatives): ', cm[0][0])\n",
    "    print('Incorrect Non-injury predictions (False Positives): ', cm[0][1])\n",
    "    print('Correct injury predictions (False Negatives): ', cm[1][0])\n",
    "    print('Incorrect injury predictions (True Positives): ', cm[1][1])\n",
    "    print('Total injury predictions: ', np.sum(cm[1]))"
   ]
  },
  {
   "cell_type": "code",
   "execution_count": 17,
   "id": "a42a9d33",
   "metadata": {},
   "outputs": [
    {
     "name": "stdout",
     "output_type": "stream",
     "text": [
      "Correct Non-injury predictions (True Negatives):  11050\n",
      "Incorrect Non-injury predictions (False Positives):  1617\n",
      "Correct injury predictions (False Negatives):  189\n",
      "Incorrect injury predictions (True Positives):  12478\n",
      "Total injury predictions:  12667\n"
     ]
    },
    {
     "data": {
      "image/png": "[encoded data removed]",
      "text/plain": [
       "<Figure size 360x360 with 2 Axes>"
      ]
     },
     "metadata": {
      "needs_background": "light"
     },
     "output_type": "display_data"
    }
   ],
   "source": [
    "plot_cm(y_test_smt, knn_preds_smt)"
   ]
  },
  {
   "cell_type": "markdown",
   "id": "dd454041-071d-4f0c-8057-7c2349788e52",
   "metadata": {},
   "source": [
    "# Optimize KNN Model"
   ]
  },
  {
   "cell_type": "code",
   "execution_count": 18,
   "id": "50941886-a2bc-453c-bc43-38e888fdea0a",
   "metadata": {},
   "outputs": [
    {
     "data": {
      "image/png": "[encoded data removed]",
      "text/plain": [
       "<Figure size 864x576 with 1 Axes>"
      ]
     },
     "metadata": {
      "needs_background": "light"
     },
     "output_type": "display_data"
    },
    {
     "name": "stdout",
     "output_type": "stream",
     "text": [
      "Best accuracy is 0.9745401436804295 with n = 1\n"
     ]
    }
   ],
   "source": [
    "# set range of n values\n",
    "neighbor = range(1, 21)\n",
    "train_acc = []\n",
    "test_acc = []\n",
    "\n",
    "# Loop through different values of n\n",
    "for i, n in enumerate(neighbor):\n",
    "    # n from 1 to 20\n",
    "    knn_model = KNeighborsClassifier(n_neighbors=n)\n",
    "    \n",
    "    # Fit with knn\n",
    "    knn_model.fit(X_train_smt,y_train_smt)\n",
    "    \n",
    "    # train accuracy\n",
    "    train_acc.append(knn_model.score(X_train_smt, y_train_smt))\n",
    "    \n",
    "    # test accuracy\n",
    "    test_acc.append(knn_model.score(X_test_smt, y_test_smt))\n",
    "\n",
    "# line plot\n",
    "plt.figure(figsize=[12, 8])\n",
    "plt.plot(neighbor, test_acc, label = 'Test Accuracy')\n",
    "plt.plot(neighbor, train_acc, label = 'Training Accuracy')\n",
    "plt.legend()\n",
    "plt.title('Value VS Accuracy')\n",
    "plt.xlabel('Number of Neighbors')\n",
    "plt.ylabel('Accuracy')\n",
    "#plt.xticks(neig)\n",
    "#plt.savefig('graph.png')\n",
    "plt.show()\n",
    "\n",
    "# print best score\n",
    "print(\"Best accuracy is {} with n = {}\".format(np.max(test_acc), 1+test_acc.index(np.max(test_acc))))"
   ]
  },
  {
   "cell_type": "code",
   "execution_count": 18,
   "id": "dd27b34d-fde7-4479-b8a3-0af3cc4e16ac",
   "metadata": {},
   "outputs": [
    {
     "name": "stdout",
     "output_type": "stream",
     "text": [
      "              precision    recall  f1-score   support\n",
      "\n",
      "           0       0.99      0.96      0.97     12667\n",
      "           1       0.96      0.99      0.97     12667\n",
      "\n",
      "    accuracy                           0.97     25334\n",
      "   macro avg       0.97      0.97      0.97     25334\n",
      "weighted avg       0.97      0.97      0.97     25334\n",
      "\n"
     ]
    }
   ],
   "source": [
    "knn_model_imp = KNeighborsClassifier(n_neighbors=1)\n",
    "knn_model_imp.fit(X_train_smt, y_train_smt)\n",
    "\n",
    "knn_preds_smt_imp = knn_model_imp.predict(X_test_smt)\n",
    "knn_preds_smt_imp = np.round(knn_preds_smt_imp)\n",
    "\n",
    "#Display the classification report of the model out of prediction using the test data\n",
    "print(classification_report(y_test_smt, knn_preds_smt_imp))"
   ]
  },
  {
   "cell_type": "code",
   "execution_count": 19,
   "id": "8d364666-0a0c-4ff5-86d9-be399d7d90d2",
   "metadata": {},
   "outputs": [
    {
     "name": "stdout",
     "output_type": "stream",
     "text": [
      "Correct Non-injury predictions (True Negatives):  12161\n",
      "Incorrect Non-injury predictions (False Positives):  506\n",
      "Correct injury predictions (False Negatives):  164\n",
      "Incorrect injury predictions (True Positives):  12503\n",
      "Total injury predictions:  12667\n"
     ]
    },
    {
     "data": {
      "image/png": "[encoded data removed]",
      "text/plain": [
       "<Figure size 360x360 with 2 Axes>"
      ]
     },
     "metadata": {
      "needs_background": "light"
     },
     "output_type": "display_data"
    }
   ],
   "source": [
    "plot_cm(y_test_smt, knn_preds_smt_imp)"
   ]
  },
  {
   "cell_type": "markdown",
   "id": "21d3a6d2-f275-42b4-ba61-b4c112d03065",
   "metadata": {},
   "source": [
    "# Saving Model"
   ]
  },
  {
   "cell_type": "code",
   "execution_count": 20,
   "id": "43aafafd-0f8d-4682-85fb-ea917cd4a562",
   "metadata": {},
   "outputs": [],
   "source": [
    "import pickle\n",
    "file_name = \"knn_model_week.pkl\"\n",
    "\n",
    "# save\n",
    "pickle.dump(knn_model_imp, open(file_name, \"wb\"))"
   ]
  },
  {
   "cell_type": "code",
   "execution_count": null,
   "id": "9a14226f-6064-4385-9ed8-8d62d3fd2af1",
   "metadata": {},
   "outputs": [],
   "source": []
  }
 ],
 "metadata": {
  "kernelspec": {
   "display_name": "Python 3 (ipykernel)",
   "language": "python",
   "name": "python3"
  },
  "language_info": {
   "codemirror_mode": {
    "name": "ipython",
    "version": 3
   },
   "file_extension": ".py",
   "mimetype": "text/x-python",
   "name": "python",
   "nbconvert_exporter": "python",
   "pygments_lexer": "ipython3",
   "version": "3.9.12"
  }
 },
 "nbformat": 4,
 "nbformat_minor": 5
}
